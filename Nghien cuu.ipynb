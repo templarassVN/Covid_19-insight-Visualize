{
 "cells": [
  {
   "cell_type": "markdown",
   "metadata": {},
   "source": [
    "**Tìm hiểu các mối quan hệ**"
   ]
  },
  {
   "cell_type": "code",
   "execution_count": 1,
   "metadata": {},
   "outputs": [],
   "source": [
    "import pandas as pd\n",
    "import numpy as np\n",
    "import matplotlib.pyplot as plt"
   ]
  },
  {
   "cell_type": "code",
   "execution_count": 2,
   "metadata": {},
   "outputs": [
    {
     "data": {
      "text/html": [
       "<div>\n",
       "<style scoped>\n",
       "    .dataframe tbody tr th:only-of-type {\n",
       "        vertical-align: middle;\n",
       "    }\n",
       "\n",
       "    .dataframe tbody tr th {\n",
       "        vertical-align: top;\n",
       "    }\n",
       "\n",
       "    .dataframe thead th {\n",
       "        text-align: right;\n",
       "    }\n",
       "</style>\n",
       "<table border=\"1\" class=\"dataframe\">\n",
       "  <thead>\n",
       "    <tr style=\"text-align: right;\">\n",
       "      <th></th>\n",
       "      <th>Country</th>\n",
       "      <th>Total Cases</th>\n",
       "      <th>New Cases</th>\n",
       "      <th>TotalDeaths</th>\n",
       "      <th>NewDeaths</th>\n",
       "      <th>TotalRecovered</th>\n",
       "      <th>ActiveCases</th>\n",
       "      <th>Serious</th>\n",
       "      <th>Tot Cases/1M pop</th>\n",
       "      <th>Deaths/1M pop</th>\n",
       "      <th>Total Tests</th>\n",
       "      <th>Tests/1M pop</th>\n",
       "      <th>Population</th>\n",
       "      <th>Continent</th>\n",
       "    </tr>\n",
       "  </thead>\n",
       "  <tbody>\n",
       "    <tr>\n",
       "      <th>0</th>\n",
       "      <td>USA</td>\n",
       "      <td>32476153</td>\n",
       "      <td>51653.0</td>\n",
       "      <td>581573</td>\n",
       "      <td>498.0</td>\n",
       "      <td>25043463</td>\n",
       "      <td>6851117</td>\n",
       "      <td>9815.0</td>\n",
       "      <td>97655.0</td>\n",
       "      <td>1749.0</td>\n",
       "      <td>430886619.0</td>\n",
       "      <td>1295672.0</td>\n",
       "      <td>332558517</td>\n",
       "      <td>North America</td>\n",
       "    </tr>\n",
       "    <tr>\n",
       "      <th>1</th>\n",
       "      <td>India</td>\n",
       "      <td>15314714</td>\n",
       "      <td>256947.0</td>\n",
       "      <td>180550</td>\n",
       "      <td>1757.0</td>\n",
       "      <td>13103220</td>\n",
       "      <td>2030944</td>\n",
       "      <td>8944.0</td>\n",
       "      <td>11011.0</td>\n",
       "      <td>130.0</td>\n",
       "      <td>267894549.0</td>\n",
       "      <td>192610.0</td>\n",
       "      <td>1390864355</td>\n",
       "      <td>Asia</td>\n",
       "    </tr>\n",
       "    <tr>\n",
       "      <th>2</th>\n",
       "      <td>Brazil</td>\n",
       "      <td>13977713</td>\n",
       "      <td>34642.0</td>\n",
       "      <td>375049</td>\n",
       "      <td>1607.0</td>\n",
       "      <td>12460712</td>\n",
       "      <td>1141952</td>\n",
       "      <td>8318.0</td>\n",
       "      <td>65387.0</td>\n",
       "      <td>1754.0</td>\n",
       "      <td>28600000.0</td>\n",
       "      <td>133789.0</td>\n",
       "      <td>213770046</td>\n",
       "      <td>South America</td>\n",
       "    </tr>\n",
       "    <tr>\n",
       "      <th>3</th>\n",
       "      <td>France</td>\n",
       "      <td>5296822</td>\n",
       "      <td>7296.0</td>\n",
       "      <td>101222</td>\n",
       "      <td>489.0</td>\n",
       "      <td>4151289</td>\n",
       "      <td>1044311</td>\n",
       "      <td>5970.0</td>\n",
       "      <td>81004.0</td>\n",
       "      <td>1548.0</td>\n",
       "      <td>72613536.0</td>\n",
       "      <td>1110478.0</td>\n",
       "      <td>65389433</td>\n",
       "      <td>Europe</td>\n",
       "    </tr>\n",
       "    <tr>\n",
       "      <th>4</th>\n",
       "      <td>Russia</td>\n",
       "      <td>4710690</td>\n",
       "      <td>8589.0</td>\n",
       "      <td>105928</td>\n",
       "      <td>346.0</td>\n",
       "      <td>4333598</td>\n",
       "      <td>271164</td>\n",
       "      <td>2300.0</td>\n",
       "      <td>32268.0</td>\n",
       "      <td>726.0</td>\n",
       "      <td>126000000.0</td>\n",
       "      <td>863104.0</td>\n",
       "      <td>145984714</td>\n",
       "      <td>Europe</td>\n",
       "    </tr>\n",
       "  </tbody>\n",
       "</table>\n",
       "</div>"
      ],
      "text/plain": [
       "  Country  Total Cases  New Cases TotalDeaths  NewDeaths  TotalRecovered  \\\n",
       "0     USA     32476153    51653.0     581573       498.0        25043463   \n",
       "1   India     15314714   256947.0     180550      1757.0        13103220   \n",
       "2  Brazil     13977713    34642.0     375049      1607.0        12460712   \n",
       "3  France      5296822     7296.0     101222       489.0         4151289   \n",
       "4  Russia      4710690     8589.0     105928       346.0         4333598   \n",
       "\n",
       "   ActiveCases  Serious  Tot Cases/1M pop  Deaths/1M pop  Total Tests  \\\n",
       "0      6851117   9815.0           97655.0         1749.0  430886619.0   \n",
       "1      2030944   8944.0           11011.0          130.0  267894549.0   \n",
       "2      1141952   8318.0           65387.0         1754.0   28600000.0   \n",
       "3      1044311   5970.0           81004.0         1548.0   72613536.0   \n",
       "4       271164   2300.0           32268.0          726.0  126000000.0   \n",
       "\n",
       "   Tests/1M pop   Population      Continent  \n",
       "0     1295672.0   332558517   North America  \n",
       "1      192610.0  1390864355            Asia  \n",
       "2      133789.0   213770046   South America  \n",
       "3     1110478.0    65389433          Europe  \n",
       "4      863104.0   145984714          Europe  "
      ]
     },
     "execution_count": 2,
     "metadata": {},
     "output_type": "execute_result"
    }
   ],
   "source": [
    "data = pd.read_csv('COVID_4-19.csv')\n",
    "data.head()"
   ]
  },
  {
   "cell_type": "code",
   "execution_count": 3,
   "metadata": {},
   "outputs": [
    {
     "data": {
      "text/plain": [
       "Country              object\n",
       "Total Cases           int64\n",
       "New Cases           float64\n",
       "TotalDeaths          object\n",
       "NewDeaths           float64\n",
       "TotalRecovered        int64\n",
       "ActiveCases           int64\n",
       "Serious             float64\n",
       "Tot Cases/1M pop    float64\n",
       "Deaths/1M pop       float64\n",
       "Total Tests         float64\n",
       "Tests/1M pop        float64\n",
       "Population           object\n",
       "Continent            object\n",
       "dtype: object"
      ]
     },
     "execution_count": 3,
     "metadata": {},
     "output_type": "execute_result"
    }
   ],
   "source": [
    "data.dtypes"
   ]
  },
  {
   "cell_type": "markdown",
   "metadata": {},
   "source": [
    "---\n",
    "bỏ dòng *MS Zaandam* với *Diamond Princess*\n",
    "\n",
    "Chuyển Populrtion sang int64\n",
    "\n",
    "cÒN TOTAL DEATH THÌ Ở DƯỚI RIÊNG\n"
   ]
  },
  {
   "cell_type": "code",
   "execution_count": 4,
   "metadata": {},
   "outputs": [],
   "source": [
    "data_ele = data.loc[(data[\"Country\"] == 'MS Zaandam') | (data[\"Country\"] == 'Diamond Princess')]\n",
    "data = data.drop(data.index[list(data_ele.index)])"
   ]
  },
  {
   "cell_type": "code",
   "execution_count": 5,
   "metadata": {},
   "outputs": [],
   "source": [
    "data['Population'] = data['Population'].astype('int64')"
   ]
  },
  {
   "cell_type": "code",
   "execution_count": 6,
   "metadata": {},
   "outputs": [
    {
     "data": {
      "text/plain": [
       "Country              object\n",
       "Total Cases           int64\n",
       "New Cases           float64\n",
       "TotalDeaths          object\n",
       "NewDeaths           float64\n",
       "TotalRecovered        int64\n",
       "ActiveCases           int64\n",
       "Serious             float64\n",
       "Tot Cases/1M pop    float64\n",
       "Deaths/1M pop       float64\n",
       "Total Tests         float64\n",
       "Tests/1M pop        float64\n",
       "Population            int64\n",
       "Continent            object\n",
       "dtype: object"
      ]
     },
     "execution_count": 6,
     "metadata": {},
     "output_type": "execute_result"
    }
   ],
   "source": [
    "data.dtypes"
   ]
  },
  {
   "cell_type": "code",
   "execution_count": 9,
   "metadata": {},
   "outputs": [
    {
     "data": {
      "image/png": "[encoded data removed]",
      "text/plain": [
       "<Figure size 1080x504 with 1 Axes>"
      ]
     },
     "metadata": {
      "needs_background": "light"
     },
     "output_type": "display_data"
    }
   ],
   "source": [
    "top15_total_case = data.head(15)\n",
    "x_values = top15_total_case['Country']\n",
    "y_values = top15_total_case['Total Cases']\n",
    "colors = np.random.rand(len(x_values))\n",
    "\n",
    "plt.figure(figsize = (15,7))\n",
    "plt.ylim([0, 40000000])\n",
    "plt.scatter( x = x_values, y = y_values,\n",
    "             s = y_values/5000, c = y_values, alpha=0.5)\n",
    "plt.ylabel('Total cases (10 Million)' )\n",
    "plt.title('TOP 15 HIGHEST TOTAL CASES')\n",
    "plt.show()"
   ]
  },
  {
   "cell_type": "code",
   "execution_count": 10,
   "metadata": {},
   "outputs": [],
   "source": [
    "data1 = data[['Country','Total Cases','TotalDeaths']]\n"
   ]
  },
  {
   "cell_type": "code",
   "execution_count": 11,
   "metadata": {},
   "outputs": [
    {
     "data": {
      "text/html": [
       "<div>\n",
       "<style scoped>\n",
       "    .dataframe tbody tr th:only-of-type {\n",
       "        vertical-align: middle;\n",
       "    }\n",
       "\n",
       "    .dataframe tbody tr th {\n",
       "        vertical-align: top;\n",
       "    }\n",
       "\n",
       "    .dataframe thead th {\n",
       "        text-align: right;\n",
       "    }\n",
       "</style>\n",
       "<table border=\"1\" class=\"dataframe\">\n",
       "  <thead>\n",
       "    <tr style=\"text-align: right;\">\n",
       "      <th></th>\n",
       "      <th>Country</th>\n",
       "      <th>Total Cases</th>\n",
       "      <th>TotalDeaths</th>\n",
       "    </tr>\n",
       "  </thead>\n",
       "  <tbody>\n",
       "    <tr>\n",
       "      <th>0</th>\n",
       "      <td>USA</td>\n",
       "      <td>32476153</td>\n",
       "      <td>581573</td>\n",
       "    </tr>\n",
       "    <tr>\n",
       "      <th>1</th>\n",
       "      <td>India</td>\n",
       "      <td>15314714</td>\n",
       "      <td>180550</td>\n",
       "    </tr>\n",
       "    <tr>\n",
       "      <th>2</th>\n",
       "      <td>Brazil</td>\n",
       "      <td>13977713</td>\n",
       "      <td>375049</td>\n",
       "    </tr>\n",
       "    <tr>\n",
       "      <th>3</th>\n",
       "      <td>France</td>\n",
       "      <td>5296822</td>\n",
       "      <td>101222</td>\n",
       "    </tr>\n",
       "    <tr>\n",
       "      <th>4</th>\n",
       "      <td>Russia</td>\n",
       "      <td>4710690</td>\n",
       "      <td>105928</td>\n",
       "    </tr>\n",
       "  </tbody>\n",
       "</table>\n",
       "</div>"
      ],
      "text/plain": [
       "  Country  Total Cases TotalDeaths\n",
       "0     USA     32476153     581573 \n",
       "1   India     15314714     180550 \n",
       "2  Brazil     13977713     375049 \n",
       "3  France      5296822     101222 \n",
       "4  Russia      4710690     105928 "
      ]
     },
     "execution_count": 11,
     "metadata": {},
     "output_type": "execute_result"
    }
   ],
   "source": [
    "data1.head()"
   ]
  },
  {
   "cell_type": "code",
   "execution_count": 12,
   "metadata": {},
   "outputs": [
    {
     "data": {
      "text/plain": [
       "Country        object\n",
       "Total Cases     int64\n",
       "TotalDeaths    object\n",
       "dtype: object"
      ]
     },
     "execution_count": 12,
     "metadata": {},
     "output_type": "execute_result"
    }
   ],
   "source": [
    "data1.dtypes"
   ]
  },
  {
   "cell_type": "code",
   "execution_count": 13,
   "metadata": {},
   "outputs": [],
   "source": [
    "data1 = data1.replace(r'^\\s*$', 0, regex=True)\n",
    "data1['TotalDeaths'] = data1['TotalDeaths'].astype('int64')"
   ]
  },
  {
   "cell_type": "code",
   "execution_count": 14,
   "metadata": {},
   "outputs": [
    {
     "data": {
      "text/plain": [
       "Country        object\n",
       "Total Cases     int64\n",
       "TotalDeaths     int64\n",
       "dtype: object"
      ]
     },
     "execution_count": 14,
     "metadata": {},
     "output_type": "execute_result"
    }
   ],
   "source": [
    "data1.dtypes"
   ]
  },
  {
   "cell_type": "code",
   "execution_count": 18,
   "metadata": {},
   "outputs": [
    {
     "name": "stderr",
     "output_type": "stream",
     "text": [
      "<ipython-input-18-818be1f4d0c4>:2: SettingWithCopyWarning: \n",
      "A value is trying to be set on a copy of a slice from a DataFrame\n",
      "\n",
      "See the caveats in the documentation: https://pandas.pydata.org/pandas-docs/stable/user_guide/indexing.html#returning-a-view-versus-a-copy\n",
      "  top15_deaths.sort_values(by = 'TotalDeaths', ascending = False,ignore_index=True, inplace = True)\n"
     ]
    },
    {
     "data": {
      "text/plain": [
       "<BarContainer object of 15 artists>"
      ]
     },
     "execution_count": 18,
     "metadata": {},
     "output_type": "execute_result"
    },
    {
     "data": {
      "image/png": "[encoded data removed]",
      "text/plain": [
       "<Figure size 1080x648 with 1 Axes>"
      ]
     },
     "metadata": {
      "needs_background": "light"
     },
     "output_type": "display_data"
    }
   ],
   "source": [
    "top15_deaths = data1[['Country','TotalDeaths']]\n",
    "top15_deaths.sort_values(by = 'TotalDeaths', ascending = False,ignore_index=True, inplace = True)\n",
    "top15_deaths = top15_deaths.head(15)\n",
    "\n",
    "names = top15_deaths['Country']\n",
    "values = top15_deaths['TotalDeaths']\n",
    "\n",
    "c = []\n",
    "s = 0\n",
    "for i in range(len(names)-1):\n",
    "        c.append((1,s/600000,0))\n",
    "        s += (values[i] - values[i+1])\n",
    "c.append((1,s/600000,0))\n",
    "\n",
    "plt.figure(figsize=(15, 9))\n",
    "\n",
    "plt.title('TOP 15 HIGHEST TOTAL DEATHS')\n",
    "\n",
    "plt.barh(names, values,color = c)"
   ]
  },
  {
   "cell_type": "markdown",
   "metadata": {},
   "source": [
    "---\n",
    "Mối quan hệ giữa số cases và số chết: có thế có đường thằng tuyến tính"
   ]
  },
  {
   "cell_type": "code",
   "execution_count": 19,
   "metadata": {},
   "outputs": [
    {
     "data": {
      "image/png": "[encoded data removed]",
      "text/plain": [
       "<Figure size 432x288 with 1 Axes>"
      ]
     },
     "metadata": {
      "needs_background": "light"
     },
     "output_type": "display_data"
    }
   ],
   "source": [
    "x = data1['Total Cases']\n",
    "y = data1['TotalDeaths']\n",
    "\n",
    "\n",
    "plt.ylim([0, 700000])\n",
    "plt.yticks(np.arange(min(y), max(y)+1, 100000))\n",
    "plt.scatter(x,y)\n",
    "plt.show()"
   ]
  },
  {
   "cell_type": "code",
   "execution_count": 20,
   "metadata": {},
   "outputs": [
    {
     "data": {
      "text/html": [
       "<div>\n",
       "<style scoped>\n",
       "    .dataframe tbody tr th:only-of-type {\n",
       "        vertical-align: middle;\n",
       "    }\n",
       "\n",
       "    .dataframe tbody tr th {\n",
       "        vertical-align: top;\n",
       "    }\n",
       "\n",
       "    .dataframe thead th {\n",
       "        text-align: right;\n",
       "    }\n",
       "</style>\n",
       "<table border=\"1\" class=\"dataframe\">\n",
       "  <thead>\n",
       "    <tr style=\"text-align: right;\">\n",
       "      <th></th>\n",
       "      <th>Total Cases</th>\n",
       "      <th>New Cases</th>\n",
       "      <th>NewDeaths</th>\n",
       "      <th>TotalRecovered</th>\n",
       "      <th>ActiveCases</th>\n",
       "      <th>Serious</th>\n",
       "      <th>Tot Cases/1M pop</th>\n",
       "      <th>Deaths/1M pop</th>\n",
       "      <th>Total Tests</th>\n",
       "      <th>Tests/1M pop</th>\n",
       "      <th>Population</th>\n",
       "    </tr>\n",
       "    <tr>\n",
       "      <th>Continent</th>\n",
       "      <th></th>\n",
       "      <th></th>\n",
       "      <th></th>\n",
       "      <th></th>\n",
       "      <th></th>\n",
       "      <th></th>\n",
       "      <th></th>\n",
       "      <th></th>\n",
       "      <th></th>\n",
       "      <th></th>\n",
       "      <th></th>\n",
       "    </tr>\n",
       "  </thead>\n",
       "  <tbody>\n",
       "    <tr>\n",
       "      <th>Africa</th>\n",
       "      <td>4478163</td>\n",
       "      <td>8927.0</td>\n",
       "      <td>234.0</td>\n",
       "      <td>3996320</td>\n",
       "      <td>363342</td>\n",
       "      <td>3776.0</td>\n",
       "      <td>422743.0</td>\n",
       "      <td>6750.8</td>\n",
       "      <td>42971859.0</td>\n",
       "      <td>4185245.0</td>\n",
       "      <td>1366127240</td>\n",
       "    </tr>\n",
       "    <tr>\n",
       "      <th>Asia</th>\n",
       "      <td>34204503</td>\n",
       "      <td>400161.0</td>\n",
       "      <td>3295.0</td>\n",
       "      <td>29740820</td>\n",
       "      <td>3992826</td>\n",
       "      <td>29611.0</td>\n",
       "      <td>1106331.0</td>\n",
       "      <td>10906.9</td>\n",
       "      <td>727097321.0</td>\n",
       "      <td>25980954.0</td>\n",
       "      <td>4636590526</td>\n",
       "    </tr>\n",
       "    <tr>\n",
       "      <th>Australia/Oceania</th>\n",
       "      <td>61466</td>\n",
       "      <td>260.0</td>\n",
       "      <td>2.0</td>\n",
       "      <td>34790</td>\n",
       "      <td>25501</td>\n",
       "      <td>4.0</td>\n",
       "      <td>109228.0</td>\n",
       "      <td>1003.0</td>\n",
       "      <td>18545555.0</td>\n",
       "      <td>2283559.0</td>\n",
       "      <td>42691595</td>\n",
       "    </tr>\n",
       "    <tr>\n",
       "      <th>Europe</th>\n",
       "      <td>42967972</td>\n",
       "      <td>99538.0</td>\n",
       "      <td>2827.0</td>\n",
       "      <td>37332669</td>\n",
       "      <td>4656684</td>\n",
       "      <td>32666.0</td>\n",
       "      <td>3283840.0</td>\n",
       "      <td>62474.0</td>\n",
       "      <td>708579796.0</td>\n",
       "      <td>61874902.0</td>\n",
       "      <td>747993083</td>\n",
       "    </tr>\n",
       "    <tr>\n",
       "      <th>North America</th>\n",
       "      <td>37506600</td>\n",
       "      <td>67278.0</td>\n",
       "      <td>708.0</td>\n",
       "      <td>29188674</td>\n",
       "      <td>7470333</td>\n",
       "      <td>17193.0</td>\n",
       "      <td>1092296.0</td>\n",
       "      <td>14854.0</td>\n",
       "      <td>479988831.0</td>\n",
       "      <td>23165738.0</td>\n",
       "      <td>592803946</td>\n",
       "    </tr>\n",
       "    <tr>\n",
       "      <th>South America</th>\n",
       "      <td>23491992</td>\n",
       "      <td>85708.0</td>\n",
       "      <td>2852.0</td>\n",
       "      <td>21120280</td>\n",
       "      <td>1745439</td>\n",
       "      <td>24924.0</td>\n",
       "      <td>529850.0</td>\n",
       "      <td>11860.0</td>\n",
       "      <td>84287132.0</td>\n",
       "      <td>5382878.0</td>\n",
       "      <td>433604585</td>\n",
       "    </tr>\n",
       "  </tbody>\n",
       "</table>\n",
       "</div>"
      ],
      "text/plain": [
       "                   Total Cases  New Cases  NewDeaths  TotalRecovered  \\\n",
       "Continent                                                              \n",
       "Africa                 4478163     8927.0      234.0         3996320   \n",
       "Asia                  34204503   400161.0     3295.0        29740820   \n",
       "Australia/Oceania        61466      260.0        2.0           34790   \n",
       "Europe                42967972    99538.0     2827.0        37332669   \n",
       "North America         37506600    67278.0      708.0        29188674   \n",
       "South America         23491992    85708.0     2852.0        21120280   \n",
       "\n",
       "                   ActiveCases  Serious  Tot Cases/1M pop  Deaths/1M pop  \\\n",
       "Continent                                                                  \n",
       "Africa                  363342   3776.0          422743.0         6750.8   \n",
       "Asia                   3992826  29611.0         1106331.0        10906.9   \n",
       "Australia/Oceania        25501      4.0          109228.0         1003.0   \n",
       "Europe                 4656684  32666.0         3283840.0        62474.0   \n",
       "North America          7470333  17193.0         1092296.0        14854.0   \n",
       "South America          1745439  24924.0          529850.0        11860.0   \n",
       "\n",
       "                   Total Tests  Tests/1M pop  Population  \n",
       "Continent                                                 \n",
       "Africa              42971859.0     4185245.0  1366127240  \n",
       "Asia               727097321.0    25980954.0  4636590526  \n",
       "Australia/Oceania   18545555.0     2283559.0    42691595  \n",
       "Europe             708579796.0    61874902.0   747993083  \n",
       "North America      479988831.0    23165738.0   592803946  \n",
       "South America       84287132.0     5382878.0   433604585  "
      ]
     },
     "execution_count": 20,
     "metadata": {},
     "output_type": "execute_result"
    }
   ],
   "source": [
    "continent_data = data.groupby(by = 'Continent').sum()\n",
    "continent_data"
   ]
  },
  {
   "cell_type": "code",
   "execution_count": 21,
   "metadata": {},
   "outputs": [
    {
     "data": {
      "text/plain": [
       "Continent\n",
       "Africa                3.41\n",
       "Asia                 21.14\n",
       "Australia/Oceania     1.86\n",
       "Europe               50.36\n",
       "North America        18.85\n",
       "South America         4.38\n",
       "Name: Tests/1M pop, dtype: float64"
      ]
     },
     "execution_count": 21,
     "metadata": {},
     "output_type": "execute_result"
    }
   ],
   "source": [
    "test_1M_percentage = (continent_data['Tests/1M pop']/sum(continent_data['Tests/1M pop'])*100).round(2)\n",
    "test_1M_percentage                      "
   ]
  },
  {
   "cell_type": "code",
   "execution_count": 22,
   "metadata": {},
   "outputs": [
    {
     "data": {
      "text/plain": [
       "Index(['Africa', 'Asia', 'Australia/Oceania', 'Europe', 'North America',\n",
       "       'South America'],\n",
       "      dtype='object', name='Continent')"
      ]
     },
     "execution_count": 22,
     "metadata": {},
     "output_type": "execute_result"
    }
   ],
   "source": [
    "continent_data.index"
   ]
  },
  {
   "cell_type": "code",
   "execution_count": 23,
   "metadata": {},
   "outputs": [
    {
     "data": {
      "image/png": "[encoded data removed]",
      "text/plain": [
       "<Figure size 504x504 with 1 Axes>"
      ]
     },
     "metadata": {},
     "output_type": "display_data"
    }
   ],
   "source": [
    "labels = list(continent_data.index)\n",
    "sizes = list(test_1M_percentage)\n",
    "\n",
    "plt.figure(figsize = (7,7))\n",
    "plt.pie(sizes, labels=labels, autopct='%1.1f%%',\n",
    "        shadow=True, startangle=90)\n",
    "plt.axis('equal')  # Equal aspect ratio ensures that pie is drawn as a circle.\n",
    "\n",
    "plt.show()"
   ]
  },
  {
   "cell_type": "code",
   "execution_count": null,
   "metadata": {},
   "outputs": [],
   "source": []
  },
  {
   "cell_type": "markdown",
   "metadata": {},
   "source": [
    "---\n",
    "Mối quan hệ giữa số cases và số test: có thế có đường thằng tuyến tính"
   ]
  },
  {
   "cell_type": "code",
   "execution_count": 24,
   "metadata": {},
   "outputs": [
    {
     "data": {
      "image/png": "[encoded data removed]",
      "text/plain": [
       "<Figure size 432x288 with 1 Axes>"
      ]
     },
     "metadata": {
      "needs_background": "light"
     },
     "output_type": "display_data"
    }
   ],
   "source": [
    "x = data['Total Cases']\n",
    "y = data['Total Tests']\n",
    "\n",
    "plt.scatter(x,y)\n",
    "plt.show()"
   ]
  }
 ],
 "metadata": {
  "kernelspec": {
   "display_name": "Python 3",
   "language": "python",
   "name": "python3"
  },
  "language_info": {
   "codemirror_mode": {
    "name": "ipython",
    "version": 3
   },
   "file_extension": ".py",
   "mimetype": "text/x-python",
   "name": "python",
   "nbconvert_exporter": "python",
   "pygments_lexer": "ipython3",
   "version": "3.8.3"
  }
 },
 "nbformat": 4,
 "nbformat_minor": 4
}
