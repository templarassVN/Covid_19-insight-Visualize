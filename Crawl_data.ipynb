{
 "cells": [
  {
   "cell_type": "markdown",
   "metadata": {},
   "source": [
    "Sử dụng Chorme nên cần kiểm tra phiên bản và download driver: https://chromedriver.chromium.org/downloads"
   ]
  },
  {
   "cell_type": "code",
   "execution_count": 1,
   "metadata": {},
   "outputs": [],
   "source": [
    "import pandas as pd\n",
    "import numpy as np\n",
    "from bs4 import BeautifulSoup\n",
    "from selenium import webdriver\n",
    "from selenium.webdriver.common.keys import Keys\n"
   ]
  },
  {
   "cell_type": "code",
   "execution_count": 2,
   "metadata": {},
   "outputs": [],
   "source": [
    "#Lấy văn bản ở dòng\n",
    "def extract_row(row):\n",
    "    result = []\n",
    "    i = 0\n",
    "    for td in row:\n",
    "        i+=1\n",
    "        if (i == 1):\n",
    "            continue\n",
    "        result.append(td.text.replace(',',''))\n",
    "    return result"
   ]
  },
  {
   "cell_type": "code",
   "execution_count": 3,
   "metadata": {},
   "outputs": [],
   "source": [
    "def request_WEB(browser, date = 0):\n",
    "    '''browser là cái driver \n",
    "       date mặc định là 0: hôm nay 1: hôm qua 2: hôm kia \n",
    "    '''\n",
    "    ID = \"main_table_countries_today\"\n",
    "    if date == 1:\n",
    "        ID = \"main_table_countries_yesterday\"\n",
    "        browser.find_element_by_id('nav-yesterday-tab').click()\n",
    "    if date == 2:\n",
    "        ID = \"main_table_countries_yesterday2\"\n",
    "        browser.find_element_by_id('nav-yesterday2-tab').click()\n",
    "\n",
    "    soup=BeautifulSoup(browser.page_source,'html.parser')\n",
    "    table= soup.find('table',{'id': ID})\n",
    "    body = table.find('tbody')\n",
    "    table_contents = body.find_all('tr')\n",
    "\n",
    "    for row in table_contents:\n",
    "        try:\n",
    "            if row['style'] != 'display: none':\n",
    "                value = row.find_all('td')\n",
    "                result = \",\".join(extract_row(value))\n",
    "                the_file.write(result + '\\n') \n",
    "        except:\n",
    "            continue\n",
    "\n",
    "       "
   ]
  },
  {
   "cell_type": "code",
   "execution_count": 4,
   "metadata": {},
   "outputs": [],
   "source": [
    "#Vào trang\n",
    "URL = 'https://www.worldometers.info/coronavirus/#countries'\n",
    "browser = webdriver.Chrome(executable_path='./chromedriver.exe') \n",
    "browser.maximize_window()\n",
    "browser.get(URL)"
   ]
  },
  {
   "cell_type": "code",
   "execution_count": 5,
   "metadata": {},
   "outputs": [],
   "source": [
    "name = \"COVID_4-27.txt\"\n",
    "the_file = open(name,'a',encoding='utf-8') "
   ]
  },
  {
   "cell_type": "markdown",
   "metadata": {},
   "source": [
    "Lưu dữ liệu vào name.txt"
   ]
  },
  {
   "cell_type": "code",
   "execution_count": 6,
   "metadata": {},
   "outputs": [
    {
     "data": {
      "text/plain": [
       "164"
      ]
     },
     "execution_count": 6,
     "metadata": {},
     "output_type": "execute_result"
    }
   ],
   "source": [
    "the_file.write(\"Country,Total Cases,New Cases,TotalDeaths,NewDeaths,TotalRecovered,ActiveCases,Serious,Tot Cases/1M pop,Deaths/1M pop,Total Tests,Tests/1M pop,Population,Continent\" + '\\n')"
   ]
  },
  {
   "cell_type": "code",
   "execution_count": 7,
   "metadata": {},
   "outputs": [],
   "source": [
    "request_WEB(browser, date = 1)"
   ]
  }
 ],
 "metadata": {
  "kernelspec": {
   "display_name": "Python 3",
   "language": "python",
   "name": "python3"
  },
  "language_info": {
   "codemirror_mode": {
    "name": "ipython",
    "version": 3
   },
   "file_extension": ".py",
   "mimetype": "text/x-python",
   "name": "python",
   "nbconvert_exporter": "python",
   "pygments_lexer": "ipython3",
   "version": "3.8.3"
  }
 },
 "nbformat": 4,
 "nbformat_minor": 4
}
